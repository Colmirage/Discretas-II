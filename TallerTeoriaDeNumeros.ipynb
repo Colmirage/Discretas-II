{
  "nbformat": 4,
  "nbformat_minor": 0,
  "metadata": {
    "colab": {
      "provenance": []
    },
    "kernelspec": {
      "name": "python3",
      "display_name": "Python 3"
    },
    "language_info": {
      "name": "python"
    },
    "gpuClass": "standard"
  },
  "cells": [
    {
      "cell_type": "markdown",
      "source": [
        "# Taller - Teoría de números\n"
      ],
      "metadata": {
        "id": "HtABjVdu3hfx"
      }
    },
    {
      "cell_type": "markdown",
      "source": [
        "1. ¿Existen enteros  a  y  b  tal que  a+b=544  y cuyo máximo común divisor es 11?."
      ],
      "metadata": {
        "id": "rXVBz63F3pBl"
      }
    },
    {
      "cell_type": "code",
      "source": [
        "mod = 544 % 11\n",
        "print(\"No existen números a y b cuyo mcd sea 11 y sumados den 544 ya que al ser a y b divisibles por 11 la suma de a y b debe tambien ser multiplo de 11 (544 mod 11 = 0) y 544mod(11) =\", mod)"
      ],
      "metadata": {
        "colab": {
          "base_uri": "https://localhost:8080/"
        },
        "id": "ZLE4ngzHboxQ",
        "outputId": "ebafa061-1e79-45e7-e4b6-9a8acda36353"
      },
      "execution_count": null,
      "outputs": [
        {
          "output_type": "stream",
          "name": "stdout",
          "text": [
            "No existen números a y b cuyo mcd sea 11 y sumados den 544 ya que al ser a y b divisibles por 11 la suma de a y b debe tambien ser multiplo de 11 (544 mod 11 = 0) y 544mod(11) = 5\n"
          ]
        }
      ]
    },
    {
      "cell_type": "markdown",
      "source": [
        "2. Encuentre una regla de divisibilidad para 8 y para 16."
      ],
      "metadata": {
        "id": "RIf_ydyE4AJg"
      }
    },
    {
      "cell_type": "code",
      "source": [],
      "metadata": {
        "id": "nMWx7ixE4Otl"
      },
      "execution_count": null,
      "outputs": []
    },
    {
      "cell_type": "markdown",
      "source": [
        "3. Si $p$ es un número primo y $a^2 \\equiv b^2 (\\mod p)$, pruebe que $a \\equiv \\pm b$ ."
      ],
      "metadata": {
        "id": "F__TcPFI4PEM"
      }
    },
    {
      "cell_type": "markdown",
      "source": [
        "Respuesta: \n",
        "Según la regla de la potencia si $a \\equiv b (\\mod n)$, entonces,  $a^m \\equiv b^m (\\mod n)$. Teniendo lo anterior en cuenta tenemos que $$b^2 = -b*-b$$ $$b^2 = b*b $$\n",
        "  Por lo cual en conclusión se tiene que...\n",
        "$$a^2 \\equiv b^2 (\\mod p)$$\n",
        "$$a*a \\equiv -b*-b (\\mod p) \\iff a*a \\equiv b*b (\\mod p)$$\n",
        "$$a \\equiv \\pm b$$"
      ],
      "metadata": {
        "id": "R7bZ4oJCrbt4"
      }
    },
    {
      "cell_type": "markdown",
      "source": [
        "4. Encuentre el resto cuando  $19^{19}$  es dividido por 5."
      ],
      "metadata": {
        "id": "EZ-veHUP4ST1"
      }
    },
    {
      "cell_type": "markdown",
      "source": [
        "a*a \\equiv -b*-b\n",
        "Solución => \n",
        "Usando la regla de la potencia:\n",
        "$$19 (mod 5) = 4$$\n",
        "$$19 \\equiv 4 (mod 5)$$\n",
        "$$19^{19} \\equiv 4^{19} (mod 5)$$\n",
        "según el pequeño teorema de Fermat:\n",
        "$$4^{19} (mod 5) = 4^{4}*4^{4}*4^{4}*4^{4}*4^{3} (mod5) = 1*1*1*1*4^{3}(mod5)$$\n",
        "$$64 (mod 5) = 4$$\n",
        "$$19^{19} ≡ 4(mod5)$$"
      ],
      "metadata": {
        "id": "WbC7RH4X3uPe"
      }
    },
    {
      "cell_type": "markdown",
      "source": [
        "5. Encuentre los últimos dos dígitos de  $7^{7^{7}}$ ."
      ],
      "metadata": {
        "id": "8FzVjn6E4WNg"
      }
    },
    {
      "cell_type": "code",
      "source": [
        "print(\"Es posible ver el patrón como un mod 4\")\n",
        "print(\"7^7^7 es quivalente a 7^49\")\n",
        "print(\"49 mod 4 = 1, la lista de posibles ultimos dos digitos en orden es [07 (r=1), 49(r=2), 43(r=3), 01(r=0)]\")\n",
        "print(\"con lo cual se tiene que los últimos dos dígitos corresponden a 07\")\n",
        "a = 7\n",
        "for i in range(9):\n",
        "  print(i+1,a)\n",
        "  a = a*7\n",
        "print(\"...\")\n",
        "print(49,7**49)"
      ],
      "metadata": {
        "id": "orkrBHo_4X72",
        "colab": {
          "base_uri": "https://localhost:8080/"
        },
        "outputId": "457aed10-259b-400e-d07b-573322963539"
      },
      "execution_count": 20,
      "outputs": [
        {
          "output_type": "stream",
          "name": "stdout",
          "text": [
            "Es posible ver el patrón como un mod 4\n",
            "7^7^7 es quivalente a 7^49\n",
            "49 mod 4 = 1, la lista de posibles ultimos dos digitos en orden es [07 (r=1), 49(r=2), 43(r=3), 01(r=0)]\n",
            "con lo cual se tiene que los últimos dos dígitos corresponden a 07\n",
            "1 7\n",
            "2 49\n",
            "3 343\n",
            "4 2401\n",
            "5 16807\n",
            "6 117649\n",
            "7 823543\n",
            "8 5764801\n",
            "9 40353607\n",
            "...\n",
            "49 256923577521058878088611477224235621321607\n"
          ]
        }
      ]
    },
    {
      "cell_type": "markdown",
      "source": [
        "6. Encuentre $\\phi(n)$ para n=35,  n=100, n=51200."
      ],
      "metadata": {
        "id": "USBm3NTI4ZqU"
      }
    },
    {
      "cell_type": "code",
      "source": [
        "#librerías\n",
        "import math\n",
        "import time\n",
        "\n",
        "#inputs\n",
        "a = 35\n",
        "b = 100\n",
        "c = 51200\n",
        "\n",
        "#codigo\n",
        "def factorizar(n):\n",
        "  if n==1:\n",
        "    return 1\n",
        "  else:\n",
        "    numeros_primos = iter((2, 3, 5, 7, 11, 13, 17, 19, 23, 29, 31, 37, 41, 43, 47, 53, 59, 61, 67, 71, 73, 79, 83, 89, 97, 101, 103, 107, 109, 113, 127, 131, 137, \n",
        "                           139, 149, 151, 157, 163, 167, 173, 179, 181, 191, 193, 197, 199, 211, 223, 227, 229, 233, 239, 241, 251, 257, 263, 269, 271, 277, 281, \n",
        "                           283, 293, 307, 311, 313, 317, 331, 337, 347, 349, 353, 359, 367, 373, 379, 383, 389, 397, 401, 409, 419, 421, 431, 433, 439, 443, 449, \n",
        "                           457, 461, 463, 467, 479, 487, 491, 499, 503, 509, 521, 523, 541, 547, 557, 563, 569, 571, 577, 587, 593, 599, 601, 607, 613, 617, 619, \n",
        "                           631, 641, 643, 647, 653, 659, 661, 673, 677, 683, 691, 701, 709, 719, 727, 733, 739, 743, 751, 757, 761, 769, 773, 787, 797, 809, 811, \n",
        "                           821, 823, 827, 829, 839, 853, 857, 859, 863, 877, 881, 883, 887, 907, 911, 919, 929, 937, 941, 947, 953, 967, 971, 977, 983, 991, 997, \n",
        "                           1009, 1013, 1019, 1021, 1031, 1033, 1039, 1049, 1051, 1061, 1063, 1069, 1087, 1091, 1093, 1097, 1103, 1109, 1117, 1123, 1129, 1151, 1153, \n",
        "                           1163, 1171, 1181, 1187, 1193, 1201, 1213, 1217, 1223, 1229, 1231, 1237, 1249, 1259, 1277, 1279, 1283, 1289, 1291, 1297, 1301, 1303, 1307, \n",
        "                           1319, 1321, 1327, 1361, 1367, 1373, 1381, 1399, 1409, 1423, 1427, 1429, 1433, 1439, 1447, 1451, 1453, 1459, 1471, 1481, 1483, 1487, 1489, \n",
        "                           1493, 1499, 1511, 1523, 1531, 1543, 1549, 1553, 1559, 1567, 1571, 1579, 1583, 1597, 1601, 1607, 1609, 1613, 1619, 1621, 1627, 1637, 1657, \n",
        "                           1663, 1667, 1669, 1693, 1697, 1699, 1709, 1721, 1723, 1733, 1741, 1747, 1753, 1759, 1777, 1783, 1787, 1789, 1801, 1811, 1823, 1831, 1847, \n",
        "                           1861, 1867, 1871, 1873, 1877, 1879, 1889, 1901, 1907, 1913, 1931, 1933, 1949, 1951, 1973, 1979, 1987, 1993, 1997, 1999, 2003, 2011, 2017, \n",
        "                           2027, 2029, 2039, 2053, 2063, 2069, 2081, 2083, 2087, 2089, 2099, 2111, 2113, 2129, 2131, 2137, 2141, 2143, 2153, 2161, 2179, 2203, 2207, \n",
        "                           2213, 2221, 2237, 2239, 2243, 2251, 2267, 2269, 2273, 2281, 2287, 2293, 2297, 2309, 2311, 2333, 2339, 2341, 2347, 2351, 2357, 2371, 2377, \n",
        "                           2381, 2383, 2389, 2393, 2399, 2411, 2417, 2423, 2437, 2441, 2447, 2459, 2467, 2473, 2477, 2503, 2521, 2531, 2539, 2543, 2549, 2551, 2557, \n",
        "                           2579, 2591, 2593, 2609, 2617, 2621, 2633, 2647, 2657, 2659, 2663, 2671, 2677, 2683, 2687, 2689, 2693, 2699, 2707, 2711, 2713, 2719, 2729, \n",
        "                           2731, 2741, 2749, 2753, 2767, 2777, 2789, 2791, 2797, 2801, 2803, 2819, 2833, 2837, 2843, 2851, 2857, 2861, 2879, 2887, 2897, 2903, 2909, \n",
        "                           2917, 2927, 2939, 2953, 2957, 2963, 2969, 2971, 2999, 3001))\n",
        "    numero_primo_actual = next(numeros_primos)\n",
        "    resultado = []\n",
        "    cociente = None\n",
        "    while cociente != 1:\n",
        "      if n % numero_primo_actual != 0:\n",
        "        numero_primo_actual = next(numeros_primos)\n",
        "        continue\n",
        "      resultado.append(numero_primo_actual)\n",
        "      n = cociente = n / numero_primo_actual\n",
        "    return resultado\n",
        "\n",
        "def rev_exponentes(lista):\n",
        "  if lista == 1:\n",
        "    return 1\n",
        "  else:\n",
        "    primos = (2, 3, 5, 7, 11, 13, 17, 19, 23, 29, 31, 37, 41, 43, 47, 53, 59, 61, 67, 71, 73, 79, 83, 89, 97, 101, 103, 107, 109, 113, 127, 131, 137, 139, 149, 151, \n",
        "              157, 163, 167, 173, 179, 181, 191, 193, 197, 199, 211, 223, 227, 229, 233, 239, 241, 251, 257, 263, 269, 271, 277, 281, 283, 293, 307, 311, 313, 317, \n",
        "              331, 337, 347, 349, 353, 359, 367, 373, 379, 383, 389, 397, 401, 409, 419, 421, 431, 433, 439, 443, 449, 457, 461, 463, 467, 479, 487, 491, 499, 503, \n",
        "              509, 521, 523, 541, 547, 557, 563, 569, 571, 577, 587, 593, 599, 601, 607, 613, 617, 619, 631, 641, 643, 647, 653, 659, 661, 673, 677, 683, 691, 701, \n",
        "              709, 719, 727, 733, 739, 743, 751, 757, 761, 769, 773, 787, 797, 809, 811, 821, 823, 827, 829, 839, 853, 857, 859, 863, 877, 881, 883, 887, 907, 911, \n",
        "              919, 929, 937, 941, 947, 953, 967, 971, 977, 983, 991, 997,1009, 1013, 1019, 1021, 1031, 1033, 1039, 1049, 1051, 1061, 1063, 1069, 1087, 1091, 1093, \n",
        "              1097, 1103, 1109, 1117, 1123, 1129, 1151, 1153, 1163, 1171, 1181, 1187, 1193, 1201, 1213, 1217, 1223, 1229, 1231, 1237, 1249, 1259, 1277, 1279, 1283, \n",
        "              1289, 1291, 1297, 1301, 1303, 1307, 1319, 1321, 1327, 1361, 1367, 1373, 1381, 1399, 1409, 1423, 1427, 1429, 1433, 1439, 1447, 1451, 1453, 1459, 1471, \n",
        "              1481, 1483, 1487, 1489, 1493, 1499, 1511, 1523, 1531, 1543, 1549, 1553, 1559, 1567, 1571, 1579, 1583, 1597, 1601, 1607, 1609, 1613, 1619, 1621, 1627, \n",
        "              1637, 1657, 1663, 1667, 1669, 1693, 1697, 1699, 1709, 1721, 1723, 1733, 1741, 1747, 1753, 1759, 1777, 1783, 1787, 1789, 1801, 1811, 1823, 1831, 1847, \n",
        "              1861, 1867, 1871, 1873, 1877, 1879, 1889, 1901, 1907, 1913, 1931, 1933, 1949, 1951, 1973, 1979, 1987, 1993, 1997, 1999, 2003, 2011, 2017, 2027, 2029, \n",
        "              2039, 2053, 2063, 2069, 2081, 2083, 2087, 2089, 2099, 2111, 2113, 2129, 2131, 2137, 2141, 2143, 2153, 2161, 2179, 2203, 2207, 2213, 2221, 2237, 2239, \n",
        "              2243, 2251, 2267, 2269, 2273, 2281, 2287, 2293, 2297, 2309, 2311, 2333, 2339, 2341, 2347, 2351, 2357, 2371, 2377, 2381, 2383, 2389, 2393, 2399, 2411, \n",
        "              2417, 2423, 2437, 2441, 2447, 2459, 2467, 2473, 2477, 2503, 2521, 2531, 2539, 2543, 2549, 2551, 2557, 2579, 2591, 2593, 2609, 2617, 2621, 2633, 2647, \n",
        "              2657, 2659, 2663, 2671, 2677, 2683, 2687, 2689, 2693, 2699, 2707, 2711, 2713, 2719, 2729, 2731, 2741, 2749, 2753, 2767, 2777, 2789, 2791, 2797, 2801, \n",
        "              2803, 2819, 2833, 2837, 2843, 2851, 2857, 2861, 2879, 2887, 2897, 2903, 2909, 2917, 2927, 2939, 2953, 2957, 2963, 2969, 2971, 2999, 3001)\n",
        "    resultado = []\n",
        "    for i in primos:\n",
        "      exponente = lista.count(i)\n",
        "      if exponente!=0:\n",
        "        resultado.append(i)\n",
        "        resultado.append(exponente)\n",
        "    return resultado\n",
        "  \n",
        "\n",
        "def division(n,exp=1):\n",
        "  factores = rev_exponentes(factorizar(n))\n",
        "  print(factores)\n",
        "  if factores == 1:\n",
        "    return 1\n",
        "  if len(factores) == 2 and factores[1]==1:\n",
        "    return factores[0]\n",
        "  else:\n",
        "    c = 0\n",
        "    producto = 1\n",
        "    contador = len(factores)\n",
        "    for i in range(0,contador,2):\n",
        "      operacion = (factores[i]**factores[i+1])-(factores[i]**(factores[i+1]-1))\n",
        "      producto *= operacion\n",
        "    return producto\n",
        "    \n",
        "\n",
        "print(a,\"tiene\",division(a),\"generadores\")\n",
        "print(b,\"tiene\",division(b),\"generadores\")\n",
        "print(c,\"tiene\",division(c),\"generadores\")"
      ],
      "metadata": {
        "id": "7gk7xSPo4bYF",
        "colab": {
          "base_uri": "https://localhost:8080/"
        },
        "outputId": "da67cb74-0f55-4e2a-ea84-8abfee4737b5"
      },
      "execution_count": null,
      "outputs": [
        {
          "output_type": "stream",
          "name": "stdout",
          "text": [
            "[5, 1, 7, 1]\n",
            "35 tiene 24 generadores\n",
            "[2, 2, 5, 2]\n",
            "100 tiene 40 generadores\n",
            "[2, 11, 5, 2]\n",
            "51200 tiene 20480 generadores\n"
          ]
        }
      ]
    },
    {
      "cell_type": "markdown",
      "source": [
        "7. Usted le pregunta a un robot que quiere comer. El responde “48.879”. Sabiendo que el robot piensa en hexadecimal pero habla el decimal, que le debería dar de comer?"
      ],
      "metadata": {
        "id": "o2q7SJhH4bsS"
      }
    },
    {
      "cell_type": "code",
      "source": [
        "n = 48879\n",
        "restos = []\n",
        "while n >= 16:\n",
        "  r = n % 16\n",
        "  restos.append(r)\n",
        "  n = int(n/16)\n",
        "restos.append(n)\n",
        "for i in range(len(restos)):\n",
        "    if restos[i] == 10:\n",
        "        restos[i] = 'A'\n",
        "    if restos[i] == 11:\n",
        "        restos[i] = 'B'\n",
        "    if restos[i] == 12:\n",
        "        restos[i] = 'C'\n",
        "    if restos[i] == 13:\n",
        "        restos[i] = 'D'\n",
        "    if restos[i] == 14:\n",
        "        restos[i] = 'E'\n",
        "    if restos[i] == 15:\n",
        "        restos[i] = 'F'\n",
        "restos.reverse()\n",
        "print(restos)\n",
        "palabra = ''.join(restos)\n",
        "print(palabra)\n",
        "print(\"Es decir, 'carne de res'\")"
      ],
      "metadata": {
        "id": "mTe2rFw84dKl",
        "colab": {
          "base_uri": "https://localhost:8080/"
        },
        "outputId": "eff2adf4-adc0-4ada-d8cf-48982f467c0f"
      },
      "execution_count": 28,
      "outputs": [
        {
          "output_type": "stream",
          "name": "stdout",
          "text": [
            "['B', 'E', 'E', 'F']\n",
            "BEEF\n",
            "Es decir, 'carne de res'\n"
          ]
        }
      ]
    },
    {
      "cell_type": "markdown",
      "source": [
        "8. ¿65.314.638.792 es divisible por 24?."
      ],
      "metadata": {
        "id": "qcxGDHth4dex"
      }
    },
    {
      "cell_type": "code",
      "source": [
        "print(\"los ultimos 3 digitos 792 son al menos divisibles por 2*2*2 = 8\")\n",
        "dig = 792.0\n",
        "for i in range(2):\n",
        "  print(dig)\n",
        "  dig = dig/2\n",
        "print(dig)\n",
        "\n",
        "n =  \"65314638792\"\n",
        "lista = n.split()\n",
        "factores = [2,2,2,3]\n",
        "suma = 0\n",
        "\n",
        "for i in n:\n",
        "  suma += int(i)\n",
        "  \n",
        "print(\"Es divisible por 3 ya que la suma de sus digitos es:\",suma)\n",
        "print(\"Al ser divisible por 3 y por 8 es divisible por 24 ya que 8 * 3 = 24\")"
      ],
      "metadata": {
        "colab": {
          "base_uri": "https://localhost:8080/"
        },
        "id": "yIFxiM-W8bSM",
        "outputId": "3b28eec0-1ca4-40af-e435-dbdcb6f3ebb7"
      },
      "execution_count": 48,
      "outputs": [
        {
          "output_type": "stream",
          "name": "stdout",
          "text": [
            "los ultimos 3 digitos 792 son al menos divisibles por 2*2*2 = 8\n",
            "792.0\n",
            "396.0\n",
            "198.0\n",
            "Es divisible por 3 ya que la suma de sus digitos es: 54\n",
            "Al ser divisible por 3 y por 8 es divisible por 24 ya que 8 * 3 = 24\n"
          ]
        }
      ]
    },
    {
      "cell_type": "markdown",
      "source": [
        "\n",
        "\n",
        "9. Pruebe que $n^p - n$ es divisible por $p$ si $p$ es un número primo."
      ],
      "metadata": {
        "id": "ZfQdkZYH4fd2"
      }
    },
    {
      "cell_type": "markdown",
      "source": [
        "Solución = Teniendo en cuenta que $p$ es primo, se puede usar el pequeño teorema de Fermat:\n",
        "$$n^p-n ≡ 0 (mod p)$$\n",
        "$$n*n^{p-1}-n ≡ 0 (mod p)$$\n",
        "$$n*1-n ≡ 0 (mod p)$$\n",
        "$$n-n ≡ 0 (mod p)$$\n",
        "$$0 ≡ 0 (mod p)$$\n",
        "Con lo cual se tiene que si se cumple la expresión."
      ],
      "metadata": {
        "id": "X-Pxt-E6PK-4"
      }
    },
    {
      "cell_type": "markdown",
      "source": [
        "10. Encuentre los enteros $x$ y $y$ tal que $314x+159y=1$."
      ],
      "metadata": {
        "id": "gGEaMAXK4hub"
      }
    },
    {
      "cell_type": "markdown",
      "source": [
        "Solución = $314$ y $159$ por la identidad de Bezout:\n",
        "$$314 = 1 * 159 + 55$$\n",
        "$$159 = 1 * 155 + 4$$\n",
        "$$155 = 38 * 4 + 3$$\n",
        "$$4 = 1 * 3 + 1$$\n",
        "$$3 = 3 * 1 + 0$$\n",
        "Aislar los residuos:\n",
        "$$155 = 314 -(1*159)$$\n",
        "$$4 = 159 -(1*155)$$\n",
        "$$3 = 155 -(38*4)$$\n",
        "$$1 = 4 -(1*3)$$\n",
        "Sustitución en reversa:\n",
        "$$1 = 4 - 3$$\n",
        "$$1 = 4 - (155-(38*4)$$\n",
        "$$1 = 4(39) - 155$$\n",
        "$$1 = 39(159-155) - 155$$\n",
        "$$1 = 159(39) + 155(-40)$$\n",
        "$$1 = 159(39) - 40(314-159)$$\n",
        "$$1 = 159(79) + 314(-40)$$\n",
        "$$1 = 12561 + (-12560)$$\n",
        "$$1 = 1$$"
      ],
      "metadata": {
        "id": "gVKVdON5kbHO"
      }
    },
    {
      "cell_type": "markdown",
      "source": [
        "11. Pruebe o controvierta la siguiente afirmación si $a^2 \\equiv b^2 (\\mod m)$ entonces $a \\equiv b (\\mod m)$ o $a \\equiv -b (\\mod m)$.\n"
      ],
      "metadata": {
        "id": "Jz1W-Ss64jnL"
      }
    },
    {
      "cell_type": "markdown",
      "source": [
        "Respuesta: \n",
        "Según la regla de la potencia vista en clase si $a \\equiv b (\\mod n)$, entonces,  $a^m \\equiv b^m (\\mod n)$. Teniendo lo anterior en cuenta tenemos que $$b^2 = -b*-b$$ $$b^2 = b*b $$\n",
        "  Por lo cual en conclusión se tiene que...\n",
        "$$a^2 \\equiv b^2 (\\mod m)$$\n",
        "$$a*a \\equiv -b*-b (\\mod m) \\iff a*a \\equiv b*b (\\mod m)$$\n",
        "$$a \\equiv \\pm b$$"
      ],
      "metadata": {
        "id": "300TshJvt8XO"
      }
    },
    {
      "cell_type": "markdown",
      "source": [
        "12. Encuentre todos los enteros positivos tales que $1066 \\equiv 1776 (\\mod m)$."
      ],
      "metadata": {
        "id": "TN_1Fc1s4mJU"
      }
    },
    {
      "cell_type": "code",
      "source": [],
      "metadata": {
        "id": "DvfzkD0J4nz7"
      },
      "execution_count": null,
      "outputs": []
    },
    {
      "cell_type": "markdown",
      "source": [
        "13. Muestre que la diferencia de dos cubos consecutivos nunca es divisible por 5."
      ],
      "metadata": {
        "id": "EV7hFzjZ4oAN"
      }
    },
    {
      "cell_type": "markdown",
      "source": [
        "Se tiene: $$$$\n",
        "$$a^3-(a+1)^3 \\equiv 0 (mod 5)$$\n",
        "$$-3a^2-3a-1 ≡ 0 (mod5)$$\n",
        "para esto debe ser posible:\n",
        "$$-3a^2-3a-1 = 5*n$$\n",
        "$$(-3a^2-3a-1)/5 = n$$\n",
        "No existe un entero el cual $n^2=5$ para hacer cumplir la expresión anterior,   por lo tanto se demuestra que \n",
        "$$a^3-(a+1)^3 \\equiv 0 (mod 5)$$ \n",
        "es falso."
      ],
      "metadata": {
        "id": "AvZpsEw3DtuO"
      }
    },
    {
      "cell_type": "markdown",
      "source": [
        "\n",
        "14. Encuentre un entero positivo $n$ tal que $3^2|n$, $4^2|n+1$, $5^2|n+2$\n"
      ],
      "metadata": {
        "id": "jOyjSQD64q_K"
      }
    },
    {
      "cell_type": "code",
      "source": [
        "#n = 0 (mod 9)\n",
        "#n = -1 (mod 16)\n",
        "#n = -2 (mod 25)\n",
        "\n",
        "n = None\n",
        "\n",
        "a1 = 0\n",
        "a2 = -1\n",
        "a3 = -2\n",
        "\n",
        "m1 = 9\n",
        "m2 = 16\n",
        "m3 = 25\n",
        "\n",
        "m = m1*m2*m3\n",
        "\n",
        "M1 =  m/m1\n",
        "M2 =  m/m2\n",
        "M3 =  m/m3\n",
        "\n",
        "#inversas\n",
        "y1 = 7\n",
        "y2 = 1\n",
        "y3 = 4\n",
        "\n",
        "x = (a1*M1*y1)+(a2*M2*y2)+(a3*M3*y3)\n",
        "n = x % m\n",
        "\n",
        "print(\"la solución del sistema es:\",int(x),\"y el n que satisface los modulos es:\",int(n))"
      ],
      "metadata": {
        "id": "UU2mAQNh4tGK",
        "colab": {
          "base_uri": "https://localhost:8080/"
        },
        "outputId": "8448a006-eb95-460f-9369-e7f10b734b8b"
      },
      "execution_count": 91,
      "outputs": [
        {
          "output_type": "stream",
          "name": "stdout",
          "text": [
            "la solución del sistema es: -1377 y el n que satisface los modulos es: 2223\n"
          ]
        }
      ]
    },
    {
      "cell_type": "markdown",
      "source": [
        "15. ¿Cuál es el último digito de $7^{355}$?\n",
        "\n"
      ],
      "metadata": {
        "id": "fjGlIuMO4tep"
      }
    },
    {
      "cell_type": "code",
      "source": [
        "print(\"Asumiendo como cierta la solución del punto 5 se tiene que 355 mod 4 = 3\")\n",
        "print(\"de la lista de posibles dos digitos de las potencias de 7 antes mostrados [07 (r=1), 49(r=2), 43(r=3), 01(r=0)]\")\n",
        "print(\"es posible concluir que los últimos dos dígitos corresponden a '43' y por tanto el último a '3'\")"
      ],
      "metadata": {
        "id": "J2cKbfvF4tv_",
        "colab": {
          "base_uri": "https://localhost:8080/"
        },
        "outputId": "1eee48f6-71d0-4b2c-cf69-ef2b5a4c5c6a"
      },
      "execution_count": 22,
      "outputs": [
        {
          "output_type": "stream",
          "name": "stdout",
          "text": [
            "Asumiendo como cierta la solución del punto 5 se tiene que 355 mod 4 = 3\n",
            "de la lista de posibles dos digitos de las potencias de 7 antes mostrados [07 (r=1), 49(r=2), 43(r=3), 01(r=0)]\n",
            "es posible concluir que los últimos dos dígitos corresponden a '43' y por tanto el último a '3'\n"
          ]
        }
      ]
    },
    {
      "cell_type": "markdown",
      "source": [
        "16. Muestre que $3k+4$ y $4k+5$ no tienen un factor común más grande que 1"
      ],
      "metadata": {
        "id": "gUoNbKqw4t8K"
      }
    },
    {
      "cell_type": "code",
      "source": [],
      "metadata": {
        "id": "tKnLU0MO4wWm"
      },
      "execution_count": null,
      "outputs": []
    }
  ]
}