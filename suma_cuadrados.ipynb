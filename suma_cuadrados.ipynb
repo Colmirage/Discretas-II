{
  "metadata": {
    "language_info": {
      "codemirror_mode": {
        "name": "python",
        "version": 3
      },
      "file_extension": ".py",
      "mimetype": "text/x-python",
      "name": "python",
      "nbconvert_exporter": "python",
      "pygments_lexer": "ipython3",
      "version": "3.8"
    },
    "kernelspec": {
      "name": "python",
      "display_name": "Python (Pyodide)",
      "language": "python"
    }
  },
  "nbformat_minor": 4,
  "nbformat": 4,
  "cells": [
    {
      "cell_type": "markdown",
      "source": "# Número expresado como suma de cuadrados",
      "metadata": {}
    },
    {
      "cell_type": "code",
      "source": "n = int(input(\"Entero a sacar suma de cuadrados: \"))\n\nraiz = round(n**0.5,5)\n\naprox = int(round(raiz,0))\n\nprint(\"Para el número\",n,\"su raíz es\",raiz,\"que se aproxima a\",aprox,\"= x\")\n\nx = round(raiz,0)\n\nwhile True:\n  operacion = (x**2 - n)\n  print(\"y^2 =\",int(x),\"^ 2 -\",n,\"=\",int(operacion))\n  if ((((x**2)-n))**0.5) == round(((((x**2)-n))**0.5),0):\n    print(int(operacion),\"Es un cuadrado perfecto, por lo tanto y =\",int(round(((((x**2)-n))**0.5))),\",\",\"x =\",int(x))\n    y = int(round(((((x**2)-n))**0.5)))\n    break\n  else:\n    x += 1\nprint(\"Así se tiene\",n,\"=\",\"(\",int(x),\"-\",y,\")(\",int(x),\"+\",y,\")\",\"=\",int(x-y),\"*\",int(x+y))",
      "metadata": {},
      "execution_count": null,
      "outputs": []
    }
  ]
}