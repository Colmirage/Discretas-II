{
  "metadata": {
    "language_info": {
      "name": ""
    },
    "kernelspec": {
      "name": "python",
      "display_name": "Python (Pyodide)",
      "language": "python"
    }
  },
  "nbformat_minor": 4,
  "nbformat": 4,
  "cells": [
    {
      "cell_type": "markdown",
      "source": "# ¿Cuadrado Latino y/o Grupo?",
      "metadata": {}
    },
    {
      "cell_type": "markdown",
      "source": "## Importacion",
      "metadata": {}
    },
    {
      "cell_type": "code",
      "source": "import numpy as np",
      "metadata": {
        "trusted": true
      },
      "execution_count": null,
      "outputs": []
    },
    {
      "cell_type": "markdown",
      "source": "## Input del usuario",
      "metadata": {}
    },
    {
      "cell_type": "code",
      "source": "#Input del usuario\n\nwhile True:\n    try:\n        n = int(input(\"Entre un número entero para el tamaño de la matriz nxn: \"))\n        break\n    except ValueError:\n        print(\"No fue un número Válido, intente de nuevo\")\n\ntabla = []\n\nfor i in range(n):\n  while True:\n    try:\n      fila = (str(input(\"Ingrese \"+str(n)+\" Datos separador por , (comas) para la respectiva fila: \"))).split(\",\")\n      if len(fila) != n:\n        raise ValueError(\"Tamaño de la fila incorrecto\")\n      else:\n        tabla.append(fila)\n        break\n    except ValueError:\n      print(\"Tamaño de la fila incorrecto, inténtelo de nuevo\")",
      "metadata": {
        "trusted": true
      },
      "execution_count": null,
      "outputs": []
    },
    {
      "cell_type": "markdown",
      "source": "## Tabla y conjunto a usar",
      "metadata": {}
    },
    {
      "cell_type": "code",
      "source": "cuadTest = tabla\n\ngruTest = list(tabla[0])\ngruTest.sort()\n\nmatriz = np.array(cuadTest)\n\ntranspuesta = matriz.transpose()",
      "metadata": {
        "trusted": true
      },
      "execution_count": null,
      "outputs": []
    },
    {
      "cell_type": "markdown",
      "source": "## ¿Es un cuadrado Latino?",
      "metadata": {}
    },
    {
      "cell_type": "code",
      "source": "#contador de fila y columna, respectivamente\nCf = 0\nCc = 0\n\nverFilas = None\nverColum = None\n\n#check filas\n\nfor j in range(len(gruTest)):\n  if verFilas == False:\n    break\n  for i in gruTest:\n    if i not in matriz[j,:]:\n      verFilas = False\n      break\n  \nif verFilas == False:\n  print(\"Filas fallidas, No es cuadrado latino\")\nelse:\n  print(\"Filas comprobadas\")\n\n#check columnas\n\nfor j in range(len(gruTest)):\n  if verColum == False:\n    break\n  for i in gruTest:\n    if i not in matriz[:,j]:\n      verColum = False\n      break\n  \nif verColum == False:\n  print(\"Columnas Fallidas, No es cuadrado latino\")\nelse:\n  print(\"Columnas comprobadas, es cuadrado latino\")\n",
      "metadata": {
        "trusted": true
      },
      "execution_count": null,
      "outputs": []
    },
    {
      "cell_type": "markdown",
      "source": "## Verificación de grupo",
      "metadata": {}
    },
    {
      "cell_type": "code",
      "source": "grupo = None\n\nif n < 3:\n  grupo = False\n  print(\"No puede tener asociatividad, mínimo 3 elementos.\")\n  print(\"No es grupo\")\nelse:\n  if np.array_equal(matriz, transpuesta) == True:\n    grupo = True\n    print(\"Es un grupo\")\n  else:\n    print(\"No es grupo\")",
      "metadata": {
        "trusted": true
      },
      "execution_count": null,
      "outputs": []
    }
  ]
}